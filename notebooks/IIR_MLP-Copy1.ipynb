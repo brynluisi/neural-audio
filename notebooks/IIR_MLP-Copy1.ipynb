{
 "cells": [
  {
   "cell_type": "code",
   "execution_count": 1,
   "metadata": {},
   "outputs": [
    {
     "name": "stdout",
     "output_type": "stream",
     "text": [
      "AudioMetaData(sample_rate=44100, num_frames=14994001, num_channels=1, bits_per_sample=16, encoding=PCM_S)\n"
     ]
    }
   ],
   "source": [
    "import torch\n",
    "import torchaudio\n",
    "import torch.nn as nn\n",
    "import torch.nn.functional as F\n",
    "import numpy as np\n",
    "import torch\n",
    "from torch.nn import Module, Parameter\n",
    "from torch import FloatTensor\n",
    "from scipy import signal\n",
    "import numpy as np\n",
    "from torchaudio import transforms\n",
    "import matplotlib.pyplot as plt\n",
    "import IPython.display as ipd\n",
    "from torch.utils.data import DataLoader\n",
    "from torch.utils.data import Dataset\n",
    "from scipy.signal import sosfiltfilt\n",
    "import os\n",
    "dirname = os.path.abspath('')\n",
    "rootdir = os.path.split(dirname)[0]\n",
    "\n",
    "H1_TRAINING_INPUT_PATH = \"\".join([rootdir, \"/data/train/ht1-input.wav\"])\n",
    "H1_TRAINING_TARGET_PATH = \"\".join([rootdir, \"/data/train/ht1-target.wav\"])\n",
    "\n",
    "metadata = torchaudio.info(H1_TRAINING_INPUT_PATH)\n",
    "print(metadata)\n"
   ]
  },
  {
   "cell_type": "code",
   "execution_count": 2,
   "metadata": {},
   "outputs": [
    {
     "name": "stdout",
     "output_type": "stream",
     "text": [
      "device= cpu\n"
     ]
    }
   ],
   "source": [
    "# Device configuration\n",
    "device = torch.device('cuda' if torch.cuda.is_available() else 'cpu')\n",
    "print(\"device=\", device) "
   ]
  },
  {
   "cell_type": "code",
   "execution_count": 3,
   "metadata": {},
   "outputs": [],
   "source": [
    "train_input, fs = torchaudio.load(H1_TRAINING_INPUT_PATH)\n",
    "train_target, fs = torchaudio.load(H1_TRAINING_TARGET_PATH)"
   ]
  },
  {
   "cell_type": "code",
   "execution_count": 4,
   "metadata": {},
   "outputs": [
    {
     "name": "stdout",
     "output_type": "stream",
     "text": [
      "torch.Size([1, 14994001])\n",
      "torch.Size([1, 14994001])\n"
     ]
    }
   ],
   "source": [
    "#len(train_input)\n",
    "print(train_input.shape)\n",
    "print(train_target.shape)"
   ]
  },
  {
   "cell_type": "code",
   "execution_count": 5,
   "metadata": {},
   "outputs": [],
   "source": [
    "train_input_array = train_input.numpy().reshape(-1)\n",
    "train_target_array = train_target.numpy().reshape(-1)"
   ]
  },
  {
   "cell_type": "markdown",
   "metadata": {},
   "source": [
    "# For Reproducibility"
   ]
  },
  {
   "cell_type": "code",
   "execution_count": 6,
   "metadata": {},
   "outputs": [
    {
     "data": {
      "text/plain": [
       "<torch._C.Generator at 0x7fa6882af290>"
      ]
     },
     "execution_count": 6,
     "metadata": {},
     "output_type": "execute_result"
    }
   ],
   "source": [
    "torch.manual_seed(0)"
   ]
  },
  {
   "cell_type": "markdown",
   "metadata": {},
   "source": [
    "## Initialize Dataloader"
   ]
  },
  {
   "cell_type": "code",
   "execution_count": 7,
   "metadata": {},
   "outputs": [],
   "source": [
    "class DIIRDataSet(Dataset):\n",
    "    def __init__(self, input, target, sequence_length):\n",
    "        self.input = input\n",
    "        self.target = target\n",
    "        \n",
    "        self._sequence_length = sequence_length\n",
    "        self.input_sequence = self.wrap_to_sequences(self.input, self._sequence_length)\n",
    "        self.target_sequence = self.wrap_to_sequences(self.target, self._sequence_length)\n",
    "        self._len = self.input_sequence.shape[0]\n",
    "\n",
    "    def __len__(self):\n",
    "        return self._len\n",
    "\n",
    "    def __getitem__(self, index):\n",
    "        return {'input': self.input_sequence[index, :, :]\n",
    "               ,'target': self.target_sequence[index, :, :]}\n",
    "\n",
    "    def wrap_to_sequences(self, data, sequence_length):\n",
    "        num_sequences = int(np.floor(data.shape[0] / sequence_length))\n",
    "        print(num_sequences)\n",
    "        truncated_data = data[0:(num_sequences * sequence_length)]\n",
    "        wrapped_data = truncated_data.reshape((num_sequences, sequence_length, 1))\n",
    "        wrapped_data = wrapped_data.permute(0,2,1)\n",
    "        print(wrapped_data.shape)\n",
    "        return np.float32(wrapped_data)\n"
   ]
  },
  {
   "cell_type": "code",
   "execution_count": 8,
   "metadata": {},
   "outputs": [
    {
     "data": {
      "text/plain": [
       "torch.Size([14994001])"
      ]
     },
     "execution_count": 8,
     "metadata": {},
     "output_type": "execute_result"
    }
   ],
   "source": [
    "train_input.squeeze(0).shape"
   ]
  },
  {
   "cell_type": "code",
   "execution_count": 9,
   "metadata": {},
   "outputs": [
    {
     "name": "stdout",
     "output_type": "stream",
     "text": [
      "187425\n",
      "torch.Size([187425, 1, 80])\n",
      "187425\n",
      "torch.Size([187425, 1, 80])\n"
     ]
    }
   ],
   "source": [
    "batch_size = 512#1024\n",
    "sequence_length = 80\n",
    "train_dataset=DIIRDataSet(train_input.squeeze(0), train_target.squeeze(0), sequence_length)\n",
    "loader = DataLoader(train_dataset, batch_size=batch_size, shuffle = False, pin_memory=True, drop_last=True) #? what does the shuffle really shuffles here?"
   ]
  },
  {
   "cell_type": "code",
   "execution_count": 10,
   "metadata": {},
   "outputs": [
    {
     "data": {
      "text/plain": [
       "366"
      ]
     },
     "execution_count": 10,
     "metadata": {},
     "output_type": "execute_result"
    }
   ],
   "source": [
    "len(loader)"
   ]
  },
  {
   "cell_type": "markdown",
   "metadata": {},
   "source": [
    "# Declare Model"
   ]
  },
  {
   "cell_type": "code",
   "execution_count": 11,
   "metadata": {},
   "outputs": [],
   "source": [
    "class IIRNN(Module):\n",
    "    def __init__(self, n_input=1, n_output=1, hidden_size=80, n_channel=1):\n",
    "        super(IIRNN, self).__init__()\n",
    "        self.hidden_size = hidden_size\n",
    "        self.lstm = nn.LSTM(input_size = 80, hidden_size = self.hidden_size)\n",
    "\n",
    "        self.fc1 = nn.Linear(self.hidden_size, 80)\n",
    "#         self.fc2 = nn.Linear(512, 80)\n",
    "#         self.fc3 = nn.Linear(80 , 80)\n",
    "\n",
    "        \n",
    "        self.mlp_layer = nn.Sequential(\n",
    "            self.fc1 ,\n",
    "#             nn.Tanh(),\n",
    "#             self.fc2,\n",
    "#             nn.Tanh(),\n",
    "#             self.fc3\n",
    "        )\n",
    "\n",
    "    def forward(self, x):\n",
    "\n",
    "    \n",
    "#         print(f\"xshape: {x.shape}\")\n",
    "        x, hn = self.lstm(x) # output; (sequence_length, batch_size, hidden_size)\n",
    "#         print(f\"x rnn shape: {x.shape}\")\n",
    "        x = self.mlp_layer(x)\n",
    "#         x, hn = self.lstm(x)\n",
    "\n",
    "        return x\n"
   ]
  },
  {
   "cell_type": "code",
   "execution_count": 12,
   "metadata": {},
   "outputs": [],
   "source": [
    "model = IIRNN()"
   ]
  },
  {
   "cell_type": "markdown",
   "metadata": {},
   "source": [
    "## Define optimizer and criterion"
   ]
  },
  {
   "cell_type": "code",
   "execution_count": 13,
   "metadata": {},
   "outputs": [],
   "source": [
    "import torch.nn as nn\n",
    "from torch.optim import Adam\n",
    "\n",
    "n_epochs = 100\n",
    "lr = 1e-3\n",
    "\n",
    "optimizer = Adam(model.parameters(), lr=lr, betas=(0.9, 0.999), eps=1e-08, weight_decay=0, amsgrad=False)\n",
    "\n",
    "criterion = nn.MSELoss()"
   ]
  },
  {
   "cell_type": "markdown",
   "metadata": {},
   "source": [
    "# Define train loop"
   ]
  },
  {
   "cell_type": "code",
   "execution_count": 14,
   "metadata": {},
   "outputs": [],
   "source": [
    "import torchaudio\n",
    "from torchaudio.functional import lfilter"
   ]
  },
  {
   "cell_type": "code",
   "execution_count": 15,
   "metadata": {},
   "outputs": [],
   "source": [
    "def train(criterion, model, loader, optimizer):\n",
    "    model.train()\n",
    "    device = next(model.parameters()).device\n",
    "    total_loss = 0\n",
    "    \n",
    "    for ind, batch in enumerate(loader):\n",
    "        input_seq_batch = batch['input'].to(device)\n",
    "        target_seq_batch = batch['target'].to(device)\n",
    "\n",
    "        optimizer.zero_grad()\n",
    "        predicted_output = model(input_seq_batch)\n",
    "        \n",
    "        \n",
    "        target_seq_batch_filt = lfilter(target_seq_batch, torch.Tensor([1,0]), torch.Tensor([1, -0.95]))\n",
    "        predicted_output_filt = lfilter(predicted_output, torch.Tensor([1,0]), torch.Tensor([1, -0.95]))\n",
    "        \n",
    "        loss = criterion(target_seq_batch_filt, predicted_output_filt)\n",
    "        loss.backward()\n",
    "        optimizer.step()\n",
    "        total_loss += loss.item()\n",
    "\n",
    "    total_loss /= len(loader)\n",
    "    return total_loss"
   ]
  },
  {
   "cell_type": "markdown",
   "metadata": {},
   "source": [
    "## Train!"
   ]
  },
  {
   "cell_type": "code",
   "execution_count": 16,
   "metadata": {},
   "outputs": [
    {
     "name": "stdout",
     "output_type": "stream",
     "text": [
      "Epoch 0 -- Loss 5.951266E-03\n",
      "Epoch 1 -- Loss 5.362060E-03\n",
      "Epoch 2 -- Loss 5.199638E-03\n",
      "Epoch 3 -- Loss 5.136401E-03\n",
      "Epoch 4 -- Loss 5.086308E-03\n",
      "Epoch 5 -- Loss 5.027675E-03\n",
      "Epoch 6 -- Loss 4.980498E-03\n",
      "Epoch 7 -- Loss 4.948835E-03\n",
      "Epoch 8 -- Loss 4.924637E-03\n",
      "Epoch 9 -- Loss 4.904404E-03\n",
      "Epoch 10 -- Loss 4.876002E-03\n",
      "Epoch 11 -- Loss 4.857945E-03\n",
      "Epoch 12 -- Loss 4.842755E-03\n",
      "Epoch 13 -- Loss 4.828449E-03\n",
      "Epoch 14 -- Loss 4.820232E-03\n",
      "Epoch 15 -- Loss 4.803886E-03\n",
      "Epoch 16 -- Loss 4.790378E-03\n",
      "Epoch 17 -- Loss 4.777608E-03\n",
      "Epoch 18 -- Loss 4.765093E-03\n",
      "Epoch 19 -- Loss 4.752421E-03\n",
      "Epoch 20 -- Loss 4.737420E-03\n",
      "Epoch 21 -- Loss 4.722519E-03\n",
      "Epoch 22 -- Loss 4.706834E-03\n",
      "Epoch 23 -- Loss 4.690356E-03\n",
      "Epoch 24 -- Loss 4.673349E-03\n",
      "Epoch 25 -- Loss 4.655986E-03\n",
      "Epoch 26 -- Loss 4.638289E-03\n",
      "Epoch 27 -- Loss 4.620135E-03\n",
      "Epoch 28 -- Loss 4.601429E-03\n",
      "Epoch 29 -- Loss 4.582297E-03\n",
      "Epoch 30 -- Loss 4.563038E-03\n",
      "Epoch 31 -- Loss 4.544078E-03\n",
      "Epoch 32 -- Loss 4.525789E-03\n",
      "Epoch 33 -- Loss 4.508254E-03\n",
      "Epoch 34 -- Loss 4.491521E-03\n",
      "Epoch 35 -- Loss 4.475453E-03\n",
      "Epoch 36 -- Loss 4.459955E-03\n",
      "Epoch 37 -- Loss 4.444891E-03\n",
      "Epoch 38 -- Loss 4.430196E-03\n",
      "Epoch 39 -- Loss 4.415764E-03\n",
      "Epoch 40 -- Loss 4.401525E-03\n",
      "Epoch 41 -- Loss 4.387408E-03\n",
      "Epoch 42 -- Loss 4.373325E-03\n",
      "Epoch 43 -- Loss 4.359264E-03\n",
      "Epoch 44 -- Loss 4.345123E-03\n",
      "Epoch 45 -- Loss 4.330924E-03\n",
      "Epoch 46 -- Loss 4.316717E-03\n",
      "Epoch 47 -- Loss 4.302561E-03\n",
      "Epoch 48 -- Loss 4.288515E-03\n",
      "Epoch 49 -- Loss 4.274667E-03\n",
      "Epoch 50 -- Loss 4.261092E-03\n",
      "Epoch 51 -- Loss 4.247825E-03\n",
      "Epoch 52 -- Loss 4.234961E-03\n",
      "Epoch 53 -- Loss 4.222529E-03\n",
      "Epoch 54 -- Loss 4.210553E-03\n",
      "Epoch 55 -- Loss 4.199019E-03\n",
      "Epoch 56 -- Loss 4.187903E-03\n",
      "Epoch 57 -- Loss 4.177159E-03\n",
      "Epoch 58 -- Loss 4.166732E-03\n",
      "Epoch 59 -- Loss 4.156555E-03\n",
      "Epoch 60 -- Loss 4.146564E-03\n",
      "Epoch 61 -- Loss 4.136699E-03\n",
      "Epoch 62 -- Loss 4.126917E-03\n",
      "Epoch 63 -- Loss 4.117187E-03\n",
      "Epoch 64 -- Loss 4.107497E-03\n",
      "Epoch 65 -- Loss 4.097861E-03\n",
      "Epoch 66 -- Loss 4.088289E-03\n",
      "Epoch 67 -- Loss 4.078691E-03\n",
      "Epoch 68 -- Loss 4.068976E-03\n",
      "Epoch 69 -- Loss 4.059275E-03\n",
      "Epoch 70 -- Loss 4.049590E-03\n",
      "Epoch 71 -- Loss 4.039889E-03\n",
      "Epoch 72 -- Loss 4.030132E-03\n",
      "Epoch 73 -- Loss 4.020299E-03\n",
      "Epoch 74 -- Loss 4.010371E-03\n",
      "Epoch 75 -- Loss 4.000325E-03\n",
      "Epoch 76 -- Loss 3.990165E-03\n",
      "Epoch 77 -- Loss 3.979888E-03\n",
      "Epoch 78 -- Loss 3.969536E-03\n",
      "Epoch 79 -- Loss 3.959160E-03\n",
      "Epoch 80 -- Loss 3.948822E-03\n",
      "Epoch 81 -- Loss 3.938592E-03\n",
      "Epoch 82 -- Loss 3.928533E-03\n",
      "Epoch 83 -- Loss 3.918699E-03\n",
      "Epoch 84 -- Loss 3.909127E-03\n",
      "Epoch 85 -- Loss 3.899838E-03\n",
      "Epoch 86 -- Loss 3.890839E-03\n",
      "Epoch 87 -- Loss 3.882123E-03\n",
      "Epoch 88 -- Loss 3.873679E-03\n",
      "Epoch 89 -- Loss 3.865497E-03\n",
      "Epoch 90 -- Loss 3.857554E-03\n",
      "Epoch 91 -- Loss 3.849836E-03\n",
      "Epoch 92 -- Loss 3.842328E-03\n",
      "Epoch 93 -- Loss 3.835019E-03\n",
      "Epoch 94 -- Loss 3.827897E-03\n",
      "Epoch 95 -- Loss 3.820945E-03\n",
      "Epoch 96 -- Loss 3.814158E-03\n",
      "Epoch 97 -- Loss 3.807527E-03\n",
      "Epoch 98 -- Loss 3.801047E-03\n",
      "Epoch 99 -- Loss 3.794711E-03\n"
     ]
    }
   ],
   "source": [
    "for epoch in range(n_epochs):\n",
    "    loss = train(criterion, model, loader, optimizer)\n",
    "    print(\"Epoch {} -- Loss {:3E}\".format(epoch, loss))"
   ]
  },
  {
   "cell_type": "markdown",
   "metadata": {},
   "source": [
    "# Evaluate"
   ]
  },
  {
   "cell_type": "code",
   "execution_count": 17,
   "metadata": {},
   "outputs": [],
   "source": [
    "save_path = os.path.join('../models/lstm_mlp_premp_filter'.format(n_epochs-1))\n",
    "torch.save(model.state_dict(), save_path)"
   ]
  },
  {
   "cell_type": "code",
   "execution_count": 18,
   "metadata": {},
   "outputs": [
    {
     "name": "stdout",
     "output_type": "stream",
     "text": [
      "187425\n",
      "torch.Size([187425, 1, 80])\n",
      "187425\n",
      "torch.Size([187425, 1, 80])\n"
     ]
    }
   ],
   "source": [
    "val_batch_size = 128\n",
    "sequence_length = 80\n",
    "val_dataset=DIIRDataSet(train_input.squeeze(0), train_target.squeeze(0), sequence_length)\n",
    "val_loader = DataLoader(val_dataset, batch_size=1, shuffle = False, pin_memory=True, drop_last=True)"
   ]
  },
  {
   "cell_type": "code",
   "execution_count": 19,
   "metadata": {},
   "outputs": [],
   "source": [
    "def inspect_file(path):\n",
    "    print(\"-\" * 10)\n",
    "    print(\"Source:\", path)\n",
    "    print(\"-\" * 10)\n",
    "    print(f\" - File size: {os.path.getsize(path)} bytes\")\n",
    "    print(f\" - {torchaudio.info(path)}\")"
   ]
  },
  {
   "cell_type": "code",
   "execution_count": 20,
   "metadata": {},
   "outputs": [],
   "source": [
    "def save_audio(batch):\n",
    "    #1024,512,1\n",
    "    out_batch = batch.detach().cpu()\n",
    "    out_batch = out_batch.squeeze(-1).flatten()\n",
    "    print(out_batch.shape)\n",
    "    return out_batch"
   ]
  },
  {
   "cell_type": "code",
   "execution_count": 21,
   "metadata": {},
   "outputs": [
    {
     "name": "stdout",
     "output_type": "stream",
     "text": [
      "torch.Size([14994001, 80])\n",
      "torch.Size([1199520080])\n",
      "torch.Size([1199520080])\n",
      "Exporting ../output/lstm_mlp_premp_filter_h1.wav\n",
      "----------\n",
      "Source: ../output/lstm_mlp_premp_filter_h1.wav\n",
      "----------\n",
      " - File size: 3598560284 bytes\n",
      " - AudioMetaData(sample_rate=44100, num_frames=1199520080, num_channels=1, bits_per_sample=24, encoding=PCM_S)\n"
     ]
    }
   ],
   "source": [
    "import soundfile as sf\n",
    "\n",
    "out_path = '../output/'\n",
    "sample_rate = 44100\n",
    "save_tensor = torch.zeros(14994001,80)\n",
    "with torch.no_grad():\n",
    "    for i, val_batch in enumerate(val_loader):\n",
    "        input_seq_batch = val_batch['input'].to(device)\n",
    "        #target_seq_batch = val_batch['target'].to(device)\n",
    "        predicted_output = model(input_seq_batch)\n",
    "        output_tmp = predicted_output.squeeze().detach().cpu()\n",
    "        #print(output_tmp.shape)\n",
    "        save_tensor[i,:] = output_tmp\n",
    "    \n",
    "    print(save_tensor.shape)\n",
    "    out_audio = save_audio(save_tensor)\n",
    "    print(out_audio.shape)\n",
    "    path = os.path.join(out_path, \"lstm_mlp_premp_filter_h1.wav\")\n",
    "    print(\"Exporting {}\".format(path))\n",
    "    sf.write(path, out_audio, sample_rate,'PCM_24')\n",
    "    #torchaudio.save(path, out_audio, sample_rate, encoding=\"PCM_S\", bits_per_sample=16)\n",
    "    inspect_file(path)\n",
    "    "
   ]
  }
 ],
 "metadata": {
  "kernelspec": {
   "display_name": "Python 3 (ipykernel)",
   "language": "python",
   "name": "python3"
  },
  "language_info": {
   "codemirror_mode": {
    "name": "ipython",
    "version": 3
   },
   "file_extension": ".py",
   "mimetype": "text/x-python",
   "name": "python",
   "nbconvert_exporter": "python",
   "pygments_lexer": "ipython3",
   "version": "3.9.7"
  }
 },
 "nbformat": 4,
 "nbformat_minor": 4
}
