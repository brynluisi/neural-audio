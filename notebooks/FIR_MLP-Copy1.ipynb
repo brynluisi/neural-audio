{
 "cells": [
  {
   "cell_type": "code",
   "execution_count": 1,
   "metadata": {},
   "outputs": [
    {
     "name": "stdout",
     "output_type": "stream",
     "text": [
      "AudioMetaData(sample_rate=44100, num_frames=14994001, num_channels=1, bits_per_sample=16, encoding=PCM_S)\n"
     ]
    }
   ],
   "source": [
    "import torch\n",
    "import torchaudio\n",
    "import torch.nn as nn\n",
    "import torch.nn.functional as F\n",
    "import numpy as np\n",
    "import torch\n",
    "from torch.nn import Module, Parameter\n",
    "from torch import FloatTensor\n",
    "from scipy import signal\n",
    "import numpy as np\n",
    "from torchaudio import transforms\n",
    "import matplotlib.pyplot as plt\n",
    "import IPython.display as ipd\n",
    "from torch.utils.data import DataLoader\n",
    "from torch.utils.data import Dataset\n",
    "import os\n",
    "dirname = os.path.abspath('')\n",
    "rootdir = os.path.split(dirname)[0]\n",
    "\n",
    "H1_TRAINING_INPUT_PATH = \"\".join([rootdir, \"/data/train/ht1-input.wav\"])\n",
    "H1_TRAINING_TARGET_PATH = \"\".join([rootdir, \"/data/train/ht1-target.wav\"])\n",
    "\n",
    "metadata = torchaudio.info(H1_TRAINING_INPUT_PATH)\n",
    "print(metadata)\n"
   ]
  },
  {
   "cell_type": "code",
   "execution_count": 2,
   "metadata": {},
   "outputs": [
    {
     "name": "stdout",
     "output_type": "stream",
     "text": [
      "device= cpu\n"
     ]
    }
   ],
   "source": [
    "# Device configuration\n",
    "device = torch.device('cuda' if torch.cuda.is_available() else 'cpu')\n",
    "print(\"device=\", device) "
   ]
  },
  {
   "cell_type": "code",
   "execution_count": 3,
   "metadata": {},
   "outputs": [],
   "source": [
    "train_input, fs = torchaudio.load(H1_TRAINING_INPUT_PATH)\n",
    "train_target, fs = torchaudio.load(H1_TRAINING_TARGET_PATH)"
   ]
  },
  {
   "cell_type": "markdown",
   "metadata": {},
   "source": [
    "# For Reproducibility"
   ]
  },
  {
   "cell_type": "code",
   "execution_count": 4,
   "metadata": {},
   "outputs": [
    {
     "data": {
      "text/plain": [
       "<torch._C.Generator at 0x7fa8c8179290>"
      ]
     },
     "execution_count": 4,
     "metadata": {},
     "output_type": "execute_result"
    }
   ],
   "source": [
    "torch.manual_seed(0)"
   ]
  },
  {
   "cell_type": "markdown",
   "metadata": {},
   "source": [
    "## Initialize Dataloader"
   ]
  },
  {
   "cell_type": "code",
   "execution_count": 5,
   "metadata": {},
   "outputs": [],
   "source": [
    "class DIIRDataSet(Dataset):\n",
    "    def __init__(self, input, target, sequence_length):\n",
    "        self.input = input\n",
    "        self.target = target\n",
    "        self._sequence_length = sequence_length\n",
    "        self.input_sequence = self.wrap_to_sequences(self.input, self._sequence_length)\n",
    "        self.target_sequence = self.wrap_to_sequences(self.target, self._sequence_length)\n",
    "        self._len = self.input_sequence.shape[0]\n",
    "\n",
    "    def __len__(self):\n",
    "        return self._len\n",
    "\n",
    "    def __getitem__(self, index):\n",
    "        return {'input': self.input_sequence[index, :, :]\n",
    "               ,'target': self.target_sequence[index, :, :]}\n",
    "\n",
    "    def wrap_to_sequences(self, data, sequence_length):\n",
    "        num_sequences = int(np.floor(data.shape[0] / sequence_length))\n",
    "        print(num_sequences)\n",
    "        truncated_data = data[0:(num_sequences * sequence_length)]\n",
    "        wrapped_data = truncated_data.reshape((num_sequences, sequence_length, 1))\n",
    "        wrapped_data = wrapped_data.permute(0,2,1)\n",
    "        print(wrapped_data.shape)\n",
    "        return np.float32(wrapped_data)\n"
   ]
  },
  {
   "cell_type": "code",
   "execution_count": 6,
   "metadata": {},
   "outputs": [
    {
     "data": {
      "text/plain": [
       "torch.Size([14994001])"
      ]
     },
     "execution_count": 6,
     "metadata": {},
     "output_type": "execute_result"
    }
   ],
   "source": [
    "train_input.squeeze(0).shape"
   ]
  },
  {
   "cell_type": "code",
   "execution_count": 7,
   "metadata": {},
   "outputs": [
    {
     "name": "stdout",
     "output_type": "stream",
     "text": [
      "29285\n",
      "torch.Size([29285, 1, 512])\n",
      "29285\n",
      "torch.Size([29285, 1, 512])\n"
     ]
    }
   ],
   "source": [
    "batch_size = 512#1024\n",
    "sequence_length = 512\n",
    "train_dataset=DIIRDataSet(train_input.squeeze(0), train_target.squeeze(0), sequence_length)\n",
    "loader = DataLoader(train_dataset, batch_size=batch_size, shuffle = False, pin_memory=True, drop_last=True) #? what does the shuffle really shuffles here?"
   ]
  },
  {
   "cell_type": "code",
   "execution_count": 8,
   "metadata": {},
   "outputs": [
    {
     "data": {
      "text/plain": [
       "57"
      ]
     },
     "execution_count": 8,
     "metadata": {},
     "output_type": "execute_result"
    }
   ],
   "source": [
    "len(loader)"
   ]
  },
  {
   "cell_type": "markdown",
   "metadata": {},
   "source": [
    "# Declare Model"
   ]
  },
  {
   "cell_type": "code",
   "execution_count": 9,
   "metadata": {},
   "outputs": [],
   "source": [
    "class FIRNN(Module):\n",
    "    def __init__(self, n_input=1, n_output=1, kernel_size=80, n_channel=1):\n",
    "        super(FIRNN, self).__init__()\n",
    "        self.kernel_size = kernel_size\n",
    "        self.conv1 = nn.Conv1d(n_input, n_channel, kernel_size=kernel_size, stride=1)\n",
    "\n",
    "        self.fc1 = nn.Linear(in_features = 512, out_features = 512 * 2)\n",
    "        self.fc2 = nn.Linear(in_features = 512 * 2, out_features = 512 + kernel_size -1)\n",
    "\n",
    "        \n",
    "        self.mlp_layer = nn.Sequential(\n",
    "            self.fc1 ,\n",
    "            nn.Tanh(),\n",
    "            self.fc2,\n",
    "        )\n",
    "\n",
    "    def forward(self, x):\n",
    "        bs = x.shape[0]\n",
    "    \n",
    "        # first get fir output\n",
    "        x = F.pad(x, (self.kernel_size-1, 0)) #pad on the left side\n",
    "        x = self.conv1(x) \n",
    "        x = self.mlp_layer(x)\n",
    "        # Should I pad again here or should I make the output size output + padding?\n",
    "        # where do we need to reverse weight array b? from what I read it doesn't seem to matter\n",
    "#         x = F.pad(x, (self.kernel_size-1, 0)) #pad on the left side\n",
    "        x = self.conv1(x)\n",
    "\n",
    "        return x\n"
   ]
  },
  {
   "cell_type": "code",
   "execution_count": 10,
   "metadata": {},
   "outputs": [],
   "source": [
    "model = FIRNN()"
   ]
  },
  {
   "cell_type": "markdown",
   "metadata": {},
   "source": [
    "## Define optimizer and criterion"
   ]
  },
  {
   "cell_type": "code",
   "execution_count": 11,
   "metadata": {},
   "outputs": [],
   "source": [
    "import torch.nn as nn\n",
    "from torch.optim import Adam\n",
    "\n",
    "n_epochs = 100\n",
    "lr = 1e-3\n",
    "\n",
    "optimizer = Adam(model.parameters(), lr=lr, betas=(0.9, 0.999), eps=1e-08, weight_decay=0, amsgrad=False)\n",
    "\n",
    "criterion = nn.MSELoss()"
   ]
  },
  {
   "cell_type": "markdown",
   "metadata": {},
   "source": [
    "# Define train loop"
   ]
  },
  {
   "cell_type": "code",
   "execution_count": 12,
   "metadata": {},
   "outputs": [],
   "source": [
    "def train(criterion, model, loader, optimizer):\n",
    "    model.train()\n",
    "    device = next(model.parameters()).device\n",
    "    total_loss = 0\n",
    "    \n",
    "    for ind, batch in enumerate(loader):\n",
    "        input_seq_batch = batch['input'].to(device)\n",
    "        target_seq_batch = batch['target'].to(device)\n",
    "        optimizer.zero_grad()\n",
    "        predicted_output = model(input_seq_batch)\n",
    "#         print(f\"ind: {ind} input: {input_seq_batch.shape}\")\n",
    "#         print(f\"ind: {ind} target: {target_seq_batch.shape}\")\n",
    "#         print(predicted_output.shape) #[1024,512,1]\n",
    "        loss = criterion(target_seq_batch, predicted_output)\n",
    "        loss.backward()\n",
    "        optimizer.step()\n",
    "        total_loss += loss.item()\n",
    "\n",
    "    total_loss /= len(loader)\n",
    "    return total_loss"
   ]
  },
  {
   "cell_type": "markdown",
   "metadata": {},
   "source": [
    "## Train!"
   ]
  },
  {
   "cell_type": "code",
   "execution_count": 13,
   "metadata": {},
   "outputs": [
    {
     "name": "stdout",
     "output_type": "stream",
     "text": [
      "Epoch 0 -- Loss 6.951830E-02\n",
      "Epoch 1 -- Loss 6.129012E-02\n",
      "Epoch 2 -- Loss 6.081847E-02\n",
      "Epoch 3 -- Loss 6.031766E-02\n",
      "Epoch 4 -- Loss 6.004531E-02\n",
      "Epoch 5 -- Loss 5.971913E-02\n",
      "Epoch 6 -- Loss 5.900174E-02\n",
      "Epoch 7 -- Loss 5.810906E-02\n",
      "Epoch 8 -- Loss 5.678380E-02\n",
      "Epoch 9 -- Loss 5.491018E-02\n",
      "Epoch 10 -- Loss 5.257869E-02\n",
      "Epoch 11 -- Loss 5.034612E-02\n",
      "Epoch 12 -- Loss 4.871935E-02\n",
      "Epoch 13 -- Loss 4.761550E-02\n",
      "Epoch 14 -- Loss 4.678325E-02\n",
      "Epoch 15 -- Loss 4.614697E-02\n",
      "Epoch 16 -- Loss 4.562637E-02\n",
      "Epoch 17 -- Loss 4.513049E-02\n",
      "Epoch 18 -- Loss 4.467812E-02\n",
      "Epoch 19 -- Loss 4.424627E-02\n",
      "Epoch 20 -- Loss 4.384907E-02\n",
      "Epoch 21 -- Loss 4.345786E-02\n",
      "Epoch 22 -- Loss 4.313323E-02\n",
      "Epoch 23 -- Loss 4.281938E-02\n",
      "Epoch 24 -- Loss 4.254709E-02\n",
      "Epoch 25 -- Loss 4.228417E-02\n",
      "Epoch 26 -- Loss 4.204542E-02\n",
      "Epoch 27 -- Loss 4.181654E-02\n",
      "Epoch 28 -- Loss 4.162163E-02\n",
      "Epoch 29 -- Loss 4.141938E-02\n",
      "Epoch 30 -- Loss 4.126325E-02\n",
      "Epoch 31 -- Loss 4.108158E-02\n",
      "Epoch 32 -- Loss 4.092292E-02\n",
      "Epoch 33 -- Loss 4.076043E-02\n",
      "Epoch 34 -- Loss 4.058823E-02\n",
      "Epoch 35 -- Loss 4.045324E-02\n",
      "Epoch 36 -- Loss 4.031708E-02\n",
      "Epoch 37 -- Loss 4.018175E-02\n",
      "Epoch 38 -- Loss 4.006377E-02\n",
      "Epoch 39 -- Loss 3.991978E-02\n",
      "Epoch 40 -- Loss 3.979950E-02\n",
      "Epoch 41 -- Loss 3.967220E-02\n",
      "Epoch 42 -- Loss 3.954141E-02\n",
      "Epoch 43 -- Loss 3.943000E-02\n",
      "Epoch 44 -- Loss 3.933442E-02\n",
      "Epoch 45 -- Loss 3.920841E-02\n",
      "Epoch 46 -- Loss 3.911068E-02\n",
      "Epoch 47 -- Loss 3.901417E-02\n",
      "Epoch 48 -- Loss 3.888407E-02\n",
      "Epoch 49 -- Loss 3.876534E-02\n",
      "Epoch 50 -- Loss 3.866070E-02\n",
      "Epoch 51 -- Loss 3.855566E-02\n",
      "Epoch 52 -- Loss 3.844273E-02\n",
      "Epoch 53 -- Loss 3.832705E-02\n",
      "Epoch 54 -- Loss 3.823691E-02\n",
      "Epoch 55 -- Loss 3.814061E-02\n",
      "Epoch 56 -- Loss 3.802651E-02\n",
      "Epoch 57 -- Loss 3.791086E-02\n",
      "Epoch 58 -- Loss 3.783479E-02\n",
      "Epoch 59 -- Loss 3.772577E-02\n",
      "Epoch 60 -- Loss 3.762691E-02\n",
      "Epoch 61 -- Loss 3.753178E-02\n",
      "Epoch 62 -- Loss 3.745191E-02\n",
      "Epoch 63 -- Loss 3.735483E-02\n",
      "Epoch 64 -- Loss 3.725433E-02\n",
      "Epoch 65 -- Loss 3.717513E-02\n",
      "Epoch 66 -- Loss 3.708181E-02\n",
      "Epoch 67 -- Loss 3.700578E-02\n",
      "Epoch 68 -- Loss 3.690032E-02\n",
      "Epoch 69 -- Loss 3.682633E-02\n",
      "Epoch 70 -- Loss 3.676887E-02\n",
      "Epoch 71 -- Loss 3.669664E-02\n",
      "Epoch 72 -- Loss 3.660121E-02\n",
      "Epoch 73 -- Loss 3.654166E-02\n",
      "Epoch 74 -- Loss 3.647478E-02\n",
      "Epoch 75 -- Loss 3.645151E-02\n",
      "Epoch 76 -- Loss 3.635000E-02\n",
      "Epoch 77 -- Loss 3.630120E-02\n",
      "Epoch 78 -- Loss 3.625046E-02\n",
      "Epoch 79 -- Loss 3.623106E-02\n",
      "Epoch 80 -- Loss 3.613647E-02\n",
      "Epoch 81 -- Loss 3.610815E-02\n",
      "Epoch 82 -- Loss 3.602349E-02\n",
      "Epoch 83 -- Loss 3.598872E-02\n",
      "Epoch 84 -- Loss 3.589252E-02\n",
      "Epoch 85 -- Loss 3.583241E-02\n",
      "Epoch 86 -- Loss 3.576484E-02\n",
      "Epoch 87 -- Loss 3.572962E-02\n",
      "Epoch 88 -- Loss 3.564408E-02\n",
      "Epoch 89 -- Loss 3.559728E-02\n",
      "Epoch 90 -- Loss 3.549852E-02\n",
      "Epoch 91 -- Loss 3.545784E-02\n",
      "Epoch 92 -- Loss 3.543083E-02\n",
      "Epoch 93 -- Loss 3.539117E-02\n",
      "Epoch 94 -- Loss 3.532358E-02\n",
      "Epoch 95 -- Loss 3.526291E-02\n",
      "Epoch 96 -- Loss 3.523291E-02\n",
      "Epoch 97 -- Loss 3.513668E-02\n",
      "Epoch 98 -- Loss 3.510876E-02\n",
      "Epoch 99 -- Loss 3.506262E-02\n"
     ]
    }
   ],
   "source": [
    "for epoch in range(n_epochs):\n",
    "    loss = train(criterion, model, loader, optimizer)\n",
    "    print(\"Epoch {} -- Loss {:3E}\".format(epoch, loss))"
   ]
  },
  {
   "cell_type": "markdown",
   "metadata": {},
   "source": [
    "# Evaluate"
   ]
  },
  {
   "cell_type": "code",
   "execution_count": 14,
   "metadata": {},
   "outputs": [],
   "source": [
    "save_path = os.path.join('../models/conv_mlp_conv_no_second_padding.pth')\n",
    "torch.save(model.state_dict(), save_path)"
   ]
  },
  {
   "cell_type": "code",
   "execution_count": 15,
   "metadata": {},
   "outputs": [
    {
     "name": "stdout",
     "output_type": "stream",
     "text": [
      "29285\n",
      "torch.Size([29285, 1, 512])\n",
      "29285\n",
      "torch.Size([29285, 1, 512])\n"
     ]
    }
   ],
   "source": [
    "val_batch_size = 128\n",
    "sequence_length = 512\n",
    "val_dataset=DIIRDataSet(train_input.squeeze(0), train_target.squeeze(0), sequence_length)\n",
    "val_loader = DataLoader(val_dataset, batch_size=1, shuffle = False, pin_memory=True, drop_last=True)"
   ]
  },
  {
   "cell_type": "code",
   "execution_count": 16,
   "metadata": {},
   "outputs": [],
   "source": [
    "def inspect_file(path):\n",
    "    print(\"-\" * 10)\n",
    "    print(\"Source:\", path)\n",
    "    print(\"-\" * 10)\n",
    "    print(f\" - File size: {os.path.getsize(path)} bytes\")\n",
    "    print(f\" - {torchaudio.info(path)}\")"
   ]
  },
  {
   "cell_type": "code",
   "execution_count": 17,
   "metadata": {},
   "outputs": [],
   "source": [
    "def save_audio(batch):\n",
    "    #1024,512,1\n",
    "    out_batch = batch.detach().cpu()\n",
    "    out_batch = out_batch.squeeze(-1).flatten()\n",
    "    print(out_batch.shape)\n",
    "    return out_batch"
   ]
  },
  {
   "cell_type": "code",
   "execution_count": 18,
   "metadata": {},
   "outputs": [
    {
     "name": "stderr",
     "output_type": "stream",
     "text": [
      "[W NNPACK.cpp:79] Could not initialize NNPACK! Reason: Unsupported hardware.\n"
     ]
    },
    {
     "name": "stdout",
     "output_type": "stream",
     "text": [
      "torch.Size([14994001, 512])\n",
      "torch.Size([7676928512])\n",
      "torch.Size([7676928512])\n",
      "Exporting ../output/target_.wav\n",
      "----------\n",
      "Source: ../output/target_.wav\n",
      "----------\n",
      " - File size: 23030785580 bytes\n",
      " - AudioMetaData(sample_rate=44100, num_frames=518649685, num_channels=1, bits_per_sample=24, encoding=PCM_S)\n"
     ]
    }
   ],
   "source": [
    "import soundfile as sf\n",
    "\n",
    "out_path = '../output/'\n",
    "sample_rate = 44100\n",
    "save_tensor = torch.zeros(14994001,512)\n",
    "with torch.no_grad():\n",
    "    for i, val_batch in enumerate(val_loader):\n",
    "        input_seq_batch = val_batch['input'].to(device)\n",
    "        #target_seq_batch = val_batch['target'].to(device)\n",
    "        predicted_output = model(input_seq_batch)\n",
    "        output_tmp = predicted_output.squeeze().detach().cpu()\n",
    "#         print(output_tmp.shape)\n",
    "        save_tensor[i,:] = output_tmp\n",
    "    \n",
    "    print(save_tensor.shape)\n",
    "    out_audio = save_audio(save_tensor)\n",
    "    print(out_audio.shape)\n",
    "    path = os.path.join(out_path, \"target_.wav\")\n",
    "    print(\"Exporting {}\".format(path))\n",
    "    sf.write(path, out_audio, sample_rate,'PCM_24')\n",
    "    #torchaudio.save(path, out_audio, sample_rate, encoding=\"PCM_S\", bits_per_sample=16)\n",
    "    inspect_file(path)\n",
    "    "
   ]
  },
  {
   "cell_type": "code",
   "execution_count": 19,
   "metadata": {},
   "outputs": [
    {
     "data": {
      "text/plain": [
       "torch.Size([1, 14994001])"
      ]
     },
     "execution_count": 19,
     "metadata": {},
     "output_type": "execute_result"
    }
   ],
   "source": [
    "train_input.shape"
   ]
  },
  {
   "cell_type": "code",
   "execution_count": null,
   "metadata": {},
   "outputs": [],
   "source": []
  },
  {
   "cell_type": "code",
   "execution_count": 20,
   "metadata": {},
   "outputs": [
    {
     "name": "stdout",
     "output_type": "stream",
     "text": [
      "torch.Size([3, 3, 4])\n",
      "torch.Size([3, 3, 7])\n"
     ]
    }
   ],
   "source": [
    "#small test on padding\n",
    "t4d = torch.ones(3, 3, 4)\n",
    "print(t4d.shape)\n",
    "out = F.pad(t4d, (3,0)) #\"constant\", 0\n",
    "print(out.shape)"
   ]
  },
  {
   "cell_type": "code",
   "execution_count": 21,
   "metadata": {},
   "outputs": [
    {
     "data": {
      "text/plain": [
       "tensor([1., 1., 1., 1.])"
      ]
     },
     "execution_count": 21,
     "metadata": {},
     "output_type": "execute_result"
    }
   ],
   "source": [
    "t4d[1,1,:]"
   ]
  },
  {
   "cell_type": "code",
   "execution_count": 24,
   "metadata": {},
   "outputs": [],
   "source": [
    "from scipy.signal import filtfilt"
   ]
  },
  {
   "cell_type": "code",
   "execution_count": 26,
   "metadata": {},
   "outputs": [],
   "source": [
    "train_arr = train_target.numpy().reshape(-1)"
   ]
  },
  {
   "cell_type": "code",
   "execution_count": null,
   "metadata": {},
   "outputs": [],
   "source": []
  },
  {
   "cell_type": "code",
   "execution_count": null,
   "metadata": {},
   "outputs": [],
   "source": []
  }
 ],
 "metadata": {
  "kernelspec": {
   "display_name": "Python 3 (ipykernel)",
   "language": "python",
   "name": "python3"
  },
  "language_info": {
   "codemirror_mode": {
    "name": "ipython",
    "version": 3
   },
   "file_extension": ".py",
   "mimetype": "text/x-python",
   "name": "python",
   "nbconvert_exporter": "python",
   "pygments_lexer": "ipython3",
   "version": "3.9.7"
  }
 },
 "nbformat": 4,
 "nbformat_minor": 4
}
