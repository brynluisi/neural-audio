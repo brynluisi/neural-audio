{
 "cells": [
  {
   "cell_type": "code",
   "execution_count": 1,
   "metadata": {},
   "outputs": [
    {
     "name": "stdout",
     "output_type": "stream",
     "text": [
      "AudioMetaData(sample_rate=44100, num_frames=14994001, num_channels=1, bits_per_sample=16, encoding=PCM_S)\n"
     ]
    }
   ],
   "source": [
    "import torch\n",
    "import torchaudio\n",
    "import torch.nn as nn\n",
    "import torch.nn.functional as F\n",
    "import numpy as np\n",
    "import torch\n",
    "from torch.nn import Module, Parameter\n",
    "from torch import FloatTensor\n",
    "from scipy import signal\n",
    "import numpy as np\n",
    "from torchaudio import transforms\n",
    "import matplotlib.pyplot as plt\n",
    "import IPython.display as ipd\n",
    "from torch.utils.data import DataLoader\n",
    "from torch.utils.data import Dataset\n",
    "from scipy.signal import sosfiltfilt\n",
    "import os\n",
    "dirname = os.path.abspath('')\n",
    "rootdir = os.path.split(dirname)[0]\n",
    "\n",
    "H1_TRAINING_INPUT_PATH = \"\".join([rootdir, \"/data/train/ht1-input.wav\"])\n",
    "H1_TRAINING_TARGET_PATH = \"\".join([rootdir, \"/data/train/ht1-target.wav\"])\n",
    "\n",
    "metadata = torchaudio.info(H1_TRAINING_INPUT_PATH)\n",
    "print(metadata)\n"
   ]
  },
  {
   "cell_type": "code",
   "execution_count": 2,
   "metadata": {},
   "outputs": [
    {
     "name": "stdout",
     "output_type": "stream",
     "text": [
      "device= cpu\n"
     ]
    }
   ],
   "source": [
    "# Device configuration\n",
    "device = torch.device('cuda' if torch.cuda.is_available() else 'cpu')\n",
    "print(\"device=\", device) "
   ]
  },
  {
   "cell_type": "code",
   "execution_count": 3,
   "metadata": {},
   "outputs": [],
   "source": [
    "train_input, fs = torchaudio.load(H1_TRAINING_INPUT_PATH)\n",
    "train_target, fs = torchaudio.load(H1_TRAINING_TARGET_PATH)"
   ]
  },
  {
   "cell_type": "code",
   "execution_count": 4,
   "metadata": {},
   "outputs": [
    {
     "name": "stdout",
     "output_type": "stream",
     "text": [
      "torch.Size([1, 14994001])\n",
      "torch.Size([1, 14994001])\n"
     ]
    }
   ],
   "source": [
    "#len(train_input)\n",
    "print(train_input.shape)\n",
    "print(train_target.shape)"
   ]
  },
  {
   "cell_type": "code",
   "execution_count": 5,
   "metadata": {},
   "outputs": [],
   "source": [
    "train_input_array = train_input.numpy().reshape(-1)\n",
    "train_target_array = train_target.numpy().reshape(-1)"
   ]
  },
  {
   "cell_type": "markdown",
   "metadata": {},
   "source": [
    "# For Reproducibility"
   ]
  },
  {
   "cell_type": "code",
   "execution_count": 6,
   "metadata": {},
   "outputs": [
    {
     "data": {
      "text/plain": [
       "<torch._C.Generator at 0x7f7ac078f290>"
      ]
     },
     "execution_count": 6,
     "metadata": {},
     "output_type": "execute_result"
    }
   ],
   "source": [
    "torch.manual_seed(0)"
   ]
  },
  {
   "cell_type": "markdown",
   "metadata": {},
   "source": [
    "## Initialize Dataloader"
   ]
  },
  {
   "cell_type": "code",
   "execution_count": 7,
   "metadata": {},
   "outputs": [],
   "source": [
    "class NeuralAudioDataSet(Dataset):\n",
    "    def __init__(self, input, target, sequence_length):\n",
    "        self.input = input\n",
    "        self.target = target\n",
    "        \n",
    "        self._sequence_length = sequence_length\n",
    "        self.input_sequence = self.wrap_to_sequences(self.input, self._sequence_length)\n",
    "        self.target_sequence = self.wrap_to_sequences(self.target, self._sequence_length)\n",
    "        self._len = self.input_sequence.shape[0]\n",
    "\n",
    "    def __len__(self):\n",
    "        return self._len\n",
    "\n",
    "    def __getitem__(self, index):\n",
    "        return {'input': self.input_sequence[index, :, :]\n",
    "               ,'target': self.target_sequence[index, :, :]}\n",
    "\n",
    "    def wrap_to_sequences(self, data, sequence_length):\n",
    "        num_sequences = int(np.floor(data.shape[0] / sequence_length))\n",
    "        print(num_sequences)\n",
    "        truncated_data = data[0:(num_sequences * sequence_length)]\n",
    "        wrapped_data = truncated_data.reshape((num_sequences, sequence_length, 1))\n",
    "        wrapped_data = wrapped_data.permute(0,2,1)\n",
    "        print(wrapped_data.shape)\n",
    "        return np.float32(wrapped_data)\n"
   ]
  },
  {
   "cell_type": "code",
   "execution_count": 8,
   "metadata": {},
   "outputs": [
    {
     "data": {
      "text/plain": [
       "torch.Size([14994001])"
      ]
     },
     "execution_count": 8,
     "metadata": {},
     "output_type": "execute_result"
    }
   ],
   "source": [
    "train_input.squeeze(0).shape"
   ]
  },
  {
   "cell_type": "code",
   "execution_count": 9,
   "metadata": {},
   "outputs": [
    {
     "name": "stdout",
     "output_type": "stream",
     "text": [
      "14642\n",
      "torch.Size([14642, 1, 1024])\n",
      "14642\n",
      "torch.Size([14642, 1, 1024])\n"
     ]
    }
   ],
   "source": [
    "batch_size = 32 #1024\n",
    "sequence_length = 1024\n",
    "train_dataset=NeuralAudioDataSet(train_input.squeeze(0), train_target.squeeze(0), sequence_length)\n",
    "loader = DataLoader(train_dataset, batch_size=batch_size, shuffle = False, pin_memory=True, drop_last=True) #? what does the shuffle really shuffles here?"
   ]
  },
  {
   "cell_type": "code",
   "execution_count": 10,
   "metadata": {},
   "outputs": [
    {
     "data": {
      "text/plain": [
       "457"
      ]
     },
     "execution_count": 10,
     "metadata": {},
     "output_type": "execute_result"
    }
   ],
   "source": [
    "len(loader)"
   ]
  },
  {
   "cell_type": "markdown",
   "metadata": {},
   "source": [
    "# Declare Model"
   ]
  },
  {
   "cell_type": "code",
   "execution_count": 11,
   "metadata": {},
   "outputs": [],
   "source": [
    "class IIRNN(Module):\n",
    "    def __init__(self, n_input=1, n_output=1, hidden_size=80, n_channel=1):\n",
    "        super(IIRNN, self).__init__()\n",
    "        self.hidden_size = hidden_size\n",
    "        # \n",
    "        self.lstm = nn.LSTM(input_size = 1, hidden_size = self.hidden_size, batch_first=True)\n",
    "\n",
    "        self.fc1 = nn.Linear(self.hidden_size, 1)\n",
    "\n",
    "        self.mlp_layer = nn.Sequential(\n",
    "            self.fc1 ,\n",
    "        )\n",
    "\n",
    "    def forward(self, x):\n",
    "        # sequence_length: nsamples in 1 training example\n",
    "        # batch_size: number of groups of audio samples\n",
    "        # input_size: nchannels for each audio sample: 1\n",
    "        # hidden_size: number of features for a single audio sample\n",
    "        \n",
    "        x, hn = self.lstm(x.permute(0,2,1)) # output; (sequence_length, batch_size, hidden_size)\n",
    "        \n",
    "#         print(x.shape)\n",
    "        \n",
    "        x = self.mlp_layer(x)\n",
    "\n",
    "        return x.permute(0,2,1)\n"
   ]
  },
  {
   "cell_type": "code",
   "execution_count": 12,
   "metadata": {},
   "outputs": [],
   "source": [
    "model = IIRNN()"
   ]
  },
  {
   "cell_type": "markdown",
   "metadata": {},
   "source": [
    "## Define optimizer and criterion"
   ]
  },
  {
   "cell_type": "code",
   "execution_count": 13,
   "metadata": {},
   "outputs": [],
   "source": [
    "import torch.nn as nn\n",
    "from torch.optim import Adam\n",
    "from ignite.metrics import PSNR\n",
    "\n",
    "n_epochs = 100\n",
    "lr = 1e-3\n",
    "\n",
    "optimizer = Adam(model.parameters(), lr=lr, betas=(0.9, 0.999), eps=1e-08, weight_decay=0, amsgrad=False)\n",
    "\n",
    "def esr(output, target):\n",
    "    loss = torch.mean(torch.abs(target - output)**2) / (torch.mean(torch.abs(target)**2) + 1e-6)\n",
    "    return loss\n",
    "\n",
    "\n",
    "def edc(output, target):\n",
    "    \n",
    "    step_one = torch.abs(torch.mean(target - output, axis = 2))**2\n",
    "    \n",
    "    # avg over time steps but not batch here\n",
    "    \n",
    "    step_two = torch.mean(step_one)\n",
    "    \n",
    "    step_three = step_two / (torch.mean(torch.abs(target)**2) + 1e-6)\n",
    "    \n",
    "    return step_three\n",
    "\n",
    "def etotal(output, target): \n",
    "    return esr(output, target) + edc(output, target)\n",
    "    \n",
    "\n",
    "# criterion = etotal()\n",
    "criterion = nn.MSELoss()"
   ]
  },
  {
   "cell_type": "markdown",
   "metadata": {},
   "source": [
    "# Define train loop"
   ]
  },
  {
   "cell_type": "code",
   "execution_count": 14,
   "metadata": {},
   "outputs": [],
   "source": [
    "import torchaudio\n",
    "from torchaudio.functional import lfilter"
   ]
  },
  {
   "cell_type": "code",
   "execution_count": 15,
   "metadata": {},
   "outputs": [],
   "source": [
    "def train(criterion, model, loader, optimizer):\n",
    "    model.train()\n",
    "    device = next(model.parameters()).device\n",
    "    total_loss = 0\n",
    "    \n",
    "    for ind, batch in enumerate(loader):\n",
    "        input_seq_batch = batch['input'].to(device)\n",
    "        target_seq_batch = batch['target'].to(device)\n",
    "\n",
    "        optimizer.zero_grad()\n",
    "        predicted_output = model(input_seq_batch)\n",
    "        \n",
    "        \n",
    "        target_seq_batch_filt = lfilter(target_seq_batch, torch.Tensor([1,0]), torch.Tensor([1, -0.95]))\n",
    "        predicted_output_filt = lfilter(predicted_output, torch.Tensor([1,0]), torch.Tensor([1, -0.95]))\n",
    "        \n",
    "        loss = criterion(target_seq_batch_filt, predicted_output_filt)\n",
    "        loss.backward()\n",
    "        optimizer.step()\n",
    "        total_loss += loss.item()\n",
    "#         print(f\"Loss: {loss}\")\n",
    "        \n",
    "\n",
    "    total_loss /= len(loader)\n",
    "\n",
    "    return total_loss"
   ]
  },
  {
   "cell_type": "markdown",
   "metadata": {},
   "source": [
    "## Train!"
   ]
  },
  {
   "cell_type": "code",
   "execution_count": 16,
   "metadata": {},
   "outputs": [
    {
     "name": "stdout",
     "output_type": "stream",
     "text": [
      "Epoch 0 -- Loss 4.828008E-03\n",
      "Epoch 1 -- Loss 4.727370E-03\n",
      "Epoch 2 -- Loss 4.673484E-03\n",
      "Epoch 3 -- Loss 4.608856E-03\n",
      "Epoch 4 -- Loss 4.555862E-03\n",
      "Epoch 5 -- Loss 4.408821E-03\n",
      "Epoch 6 -- Loss 4.144934E-03\n",
      "Epoch 7 -- Loss 4.062568E-03\n",
      "Epoch 8 -- Loss 3.479053E-03\n",
      "Epoch 9 -- Loss 3.333184E-03\n",
      "Epoch 10 -- Loss 2.838835E-03\n",
      "Epoch 11 -- Loss 2.604966E-03\n",
      "Epoch 12 -- Loss 2.455601E-03\n",
      "Epoch 13 -- Loss 2.293630E-03\n",
      "Epoch 14 -- Loss 2.088453E-03\n",
      "Epoch 15 -- Loss 2.127002E-03\n",
      "Epoch 16 -- Loss 1.944437E-03\n",
      "Epoch 17 -- Loss 1.868103E-03\n",
      "Epoch 18 -- Loss 1.794504E-03\n",
      "Epoch 19 -- Loss 1.751479E-03\n",
      "Epoch 20 -- Loss 1.744207E-03\n",
      "Epoch 21 -- Loss 1.720265E-03\n",
      "Epoch 22 -- Loss 1.709442E-03\n",
      "Epoch 23 -- Loss 1.598070E-03\n",
      "Epoch 24 -- Loss 1.567579E-03\n",
      "Epoch 25 -- Loss 1.564783E-03\n",
      "Epoch 26 -- Loss 1.548330E-03\n",
      "Epoch 27 -- Loss 1.524012E-03\n",
      "Epoch 28 -- Loss 1.462418E-03\n",
      "Epoch 29 -- Loss 1.540169E-03\n",
      "Epoch 30 -- Loss 1.438756E-03\n",
      "Epoch 31 -- Loss 1.439270E-03\n",
      "Epoch 32 -- Loss 1.457161E-03\n",
      "Epoch 33 -- Loss 1.436622E-03\n",
      "Epoch 34 -- Loss 1.402604E-03\n",
      "Epoch 35 -- Loss 1.335500E-03\n",
      "Epoch 36 -- Loss 1.358222E-03\n",
      "Epoch 37 -- Loss 1.361902E-03\n",
      "Epoch 38 -- Loss 1.294992E-03\n",
      "Epoch 39 -- Loss 1.287305E-03\n",
      "Epoch 40 -- Loss 1.265769E-03\n",
      "Epoch 41 -- Loss 1.273117E-03\n",
      "Epoch 42 -- Loss 1.249992E-03\n",
      "Epoch 43 -- Loss 1.249112E-03\n",
      "Epoch 44 -- Loss 1.225689E-03\n",
      "Epoch 45 -- Loss 1.233711E-03\n",
      "Epoch 46 -- Loss 1.197427E-03\n",
      "Epoch 47 -- Loss 1.211412E-03\n",
      "Epoch 48 -- Loss 1.178715E-03\n",
      "Epoch 49 -- Loss 1.182041E-03\n",
      "Epoch 50 -- Loss 1.169678E-03\n",
      "Epoch 51 -- Loss 1.176931E-03\n",
      "Epoch 52 -- Loss 1.168282E-03\n",
      "Epoch 53 -- Loss 1.198610E-03\n",
      "Epoch 54 -- Loss 1.162349E-03\n",
      "Epoch 55 -- Loss 1.146089E-03\n",
      "Epoch 56 -- Loss 1.135027E-03\n",
      "Epoch 57 -- Loss 1.123553E-03\n",
      "Epoch 58 -- Loss 1.114776E-03\n",
      "Epoch 59 -- Loss 1.107539E-03\n",
      "Epoch 60 -- Loss 1.100296E-03\n",
      "Epoch 61 -- Loss 1.084734E-03\n",
      "Epoch 62 -- Loss 1.075408E-03\n",
      "Epoch 63 -- Loss 1.065129E-03\n",
      "Epoch 64 -- Loss 1.058175E-03\n",
      "Epoch 65 -- Loss 1.046802E-03\n",
      "Epoch 66 -- Loss 1.040293E-03\n",
      "Epoch 67 -- Loss 1.038653E-03\n",
      "Epoch 68 -- Loss 1.032557E-03\n",
      "Epoch 69 -- Loss 1.027400E-03\n",
      "Epoch 70 -- Loss 1.021684E-03\n",
      "Epoch 71 -- Loss 1.024455E-03\n",
      "Epoch 72 -- Loss 1.006526E-03\n",
      "Epoch 73 -- Loss 1.007126E-03\n",
      "Epoch 74 -- Loss 9.953735E-04\n",
      "Epoch 75 -- Loss 9.851365E-04\n",
      "Epoch 76 -- Loss 9.935375E-04\n",
      "Epoch 77 -- Loss 9.794844E-04\n",
      "Epoch 78 -- Loss 9.777653E-04\n",
      "Epoch 79 -- Loss 9.719892E-04\n",
      "Epoch 80 -- Loss 9.665791E-04\n",
      "Epoch 81 -- Loss 9.613040E-04\n",
      "Epoch 82 -- Loss 9.547325E-04\n",
      "Epoch 83 -- Loss 9.527784E-04\n",
      "Epoch 84 -- Loss 9.458059E-04\n",
      "Epoch 85 -- Loss 9.384579E-04\n",
      "Epoch 86 -- Loss 9.369958E-04\n",
      "Epoch 87 -- Loss 9.359697E-04\n",
      "Epoch 88 -- Loss 9.270623E-04\n",
      "Epoch 89 -- Loss 9.311835E-04\n",
      "Epoch 90 -- Loss 9.326435E-04\n",
      "Epoch 91 -- Loss 9.214406E-04\n",
      "Epoch 92 -- Loss 9.146074E-04\n",
      "Epoch 93 -- Loss 9.091496E-04\n",
      "Epoch 94 -- Loss 8.912917E-04\n",
      "Epoch 95 -- Loss 9.019838E-04\n",
      "Epoch 96 -- Loss 9.193925E-04\n",
      "Epoch 97 -- Loss 9.113656E-04\n",
      "Epoch 98 -- Loss 9.000775E-04\n",
      "Epoch 99 -- Loss 9.041318E-04\n"
     ]
    }
   ],
   "source": [
    "for epoch in range(n_epochs):\n",
    "    loss = train(criterion, model, loader, optimizer)\n",
    "    print(\"Epoch {} -- Loss {:3E}\".format(epoch, loss))"
   ]
  },
  {
   "cell_type": "markdown",
   "metadata": {},
   "source": [
    "# Evaluate"
   ]
  },
  {
   "cell_type": "code",
   "execution_count": 17,
   "metadata": {},
   "outputs": [],
   "source": [
    "save_path = os.path.join('../models/lstm_mlp_premp_filter_mse_h1'.format(n_epochs-1))\n",
    "torch.save(model.state_dict(), save_path)"
   ]
  },
  {
   "cell_type": "code",
   "execution_count": 18,
   "metadata": {},
   "outputs": [
    {
     "name": "stdout",
     "output_type": "stream",
     "text": [
      "187425\n",
      "torch.Size([187425, 1, 80])\n",
      "187425\n",
      "torch.Size([187425, 1, 80])\n"
     ]
    }
   ],
   "source": [
    "val_batch_size = 128\n",
    "sequence_length = 80\n",
    "val_dataset=DIIRDataSet(train_input.squeeze(0), train_target.squeeze(0), sequence_length)\n",
    "val_loader = DataLoader(val_dataset, batch_size=1, shuffle = False, pin_memory=True, drop_last=True)"
   ]
  },
  {
   "cell_type": "code",
   "execution_count": 19,
   "metadata": {},
   "outputs": [],
   "source": [
    "def inspect_file(path):\n",
    "    print(\"-\" * 10)\n",
    "    print(\"Source:\", path)\n",
    "    print(\"-\" * 10)\n",
    "    print(f\" - File size: {os.path.getsize(path)} bytes\")\n",
    "    print(f\" - {torchaudio.info(path)}\")"
   ]
  },
  {
   "cell_type": "code",
   "execution_count": 20,
   "metadata": {},
   "outputs": [],
   "source": [
    "def save_audio(batch):\n",
    "    #1024,512,1\n",
    "    out_batch = batch.detach().cpu()\n",
    "    out_batch = out_batch.squeeze(-1).flatten()\n",
    "    print(out_batch.shape)\n",
    "    return out_batch"
   ]
  },
  {
   "cell_type": "code",
   "execution_count": 21,
   "metadata": {},
   "outputs": [
    {
     "name": "stdout",
     "output_type": "stream",
     "text": [
      "torch.Size([14994001, 80])\n",
      "torch.Size([1199520080])\n",
      "torch.Size([1199520080])\n",
      "Exporting ../output/lstm_mlp_premp_filter_mse_h1.wav\n",
      "----------\n",
      "Source: ../output/lstm_mlp_premp_filter_mse_h1.wav\n",
      "----------\n",
      " - File size: 3598560284 bytes\n",
      " - AudioMetaData(sample_rate=44100, num_frames=1199520080, num_channels=1, bits_per_sample=24, encoding=PCM_S)\n"
     ]
    }
   ],
   "source": [
    "import soundfile as sf\n",
    "\n",
    "out_path = '../output/'\n",
    "sample_rate = 44100\n",
    "save_tensor = torch.zeros(14994001,80)\n",
    "with torch.no_grad():\n",
    "    for i, val_batch in enumerate(val_loader):\n",
    "        input_seq_batch = val_batch['input'].to(device)\n",
    "        #target_seq_batch = val_batch['target'].to(device)\n",
    "        predicted_output = model(input_seq_batch)\n",
    "        output_tmp = predicted_output.squeeze().detach().cpu()\n",
    "        #print(output_tmp.shape)\n",
    "        save_tensor[i,:] = output_tmp\n",
    "    \n",
    "    print(save_tensor.shape)\n",
    "    out_audio = save_audio(save_tensor)\n",
    "    print(out_audio.shape)\n",
    "    path = os.path.join(out_path, \"lstm_mlp_premp_filter_mse_h1.wav\")\n",
    "    print(\"Exporting {}\".format(path))\n",
    "    sf.write(path, out_audio, sample_rate,'PCM_24')\n",
    "    #torchaudio.save(path, out_audio, sample_rate, encoding=\"PCM_S\", bits_per_sample=16)\n",
    "    inspect_file(path)\n",
    "    "
   ]
  },
  {
   "cell_type": "code",
   "execution_count": null,
   "metadata": {},
   "outputs": [],
   "source": []
  }
 ],
 "metadata": {
  "kernelspec": {
   "display_name": "Python 3 (ipykernel)",
   "language": "python",
   "name": "python3"
  },
  "language_info": {
   "codemirror_mode": {
    "name": "ipython",
    "version": 3
   },
   "file_extension": ".py",
   "mimetype": "text/x-python",
   "name": "python",
   "nbconvert_exporter": "python",
   "pygments_lexer": "ipython3",
   "version": "3.9.7"
  }
 },
 "nbformat": 4,
 "nbformat_minor": 4
}
